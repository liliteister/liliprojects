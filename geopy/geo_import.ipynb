{
 "cells": [
  {
   "cell_type": "markdown",
   "id": "8c304e40",
   "metadata": {},
   "source": [
    "### Geographic Data\n",
    "Using census place data with health measures, combining with Portland Maps data.\n",
    "\n",
    "5/19/2021 NOTE: The PLACES data is not small enough to compare at a portland neighborhood level. Save this import process for another analysis, and instead, pull in some data from Portland Maps like neighborhood regions.\n",
    "\n",
    "\n",
    "----"
   ]
  },
  {
   "cell_type": "code",
   "execution_count": 1,
   "id": "30cd0138",
   "metadata": {},
   "outputs": [],
   "source": [
    "import requests\n",
    "import io\n",
    "import pandas as pd\n",
    "import geopandas as gpd\n",
    "import zipfile\n",
    "from os import path\n",
    "import json\n",
    "import urllib.request"
   ]
  },
  {
   "cell_type": "markdown",
   "id": "55a8f8f2",
   "metadata": {},
   "source": [
    "First, download the TIGER place shapefiles form the US census site and save it as a geojson file. If that file is already available, load the existing file.\n",
    "Thanks https://medium.com/@loldja/reading-shapefile-zips-from-a-url-in-python-3-93ea8d727856 for the tips!"
   ]
  },
  {
   "cell_type": "code",
   "execution_count": 2,
   "id": "20b1f156",
   "metadata": {},
   "outputs": [],
   "source": [
    "def download_shapefile(url, loc_path):\n",
    "    \n",
    "    if path.exists(loc_path):\n",
    "        p = gpd.read_file(loc_path)\n",
    "        print(\"File is ready.\")\n",
    "    else:\n",
    "        print(\"Downloading shapefile...\")\n",
    "        r = requests.get(url)\n",
    "        z = zipfile.ZipFile(io.BytesIO(r.content))\n",
    "        z.extractall(path=loc_path) \n",
    "        print(f\"Downloaded complete.\")\n",
    "        p = gpd.read_file(loc_path)\n",
    "    \n",
    "    return p\n",
    "        "
   ]
  },
  {
   "cell_type": "code",
   "execution_count": 14,
   "id": "867f12e3",
   "metadata": {},
   "outputs": [
    {
     "name": "stdout",
     "output_type": "stream",
     "text": [
      "File is ready.\n"
     ]
    }
   ],
   "source": [
    "url = 'https://www2.census.gov/geo/tiger/TIGER2019/PLACE/tl_2019_41_place.zip' # 'places' in Oregon\n",
    "local_path = 'OR_places_shapefiles/'\n",
    "\n",
    "oregon_places = download_shapefile(url, local_path)"
   ]
  },
  {
   "cell_type": "code",
   "execution_count": 16,
   "id": "4d776ce4",
   "metadata": {},
   "outputs": [
    {
     "name": "stdout",
     "output_type": "stream",
     "text": [
      "Shape of the dataframe: (378, 17)\n",
      "  STATEFP PLACEFP   PLACENS    GEOID      NAME       NAMELSAD LSAD CLASSFP  \\\n",
      "0      41   07200  02409873  4107200  Boardman  Boardman city   25      C1   \n",
      "1      41   33550  02410745  4133550   Heppner   Heppner city   25      C1   \n",
      "\n",
      "  PCICBSA PCINECTA  MTFCC FUNCSTAT    ALAND   AWATER     INTPTLAT  \\\n",
      "0       N        N  G4110        A  9765525  1037107  +45.8365075   \n",
      "1       N        N  G4110        A  3185255    15741  +45.3529944   \n",
      "\n",
      "       INTPTLON                                           geometry  \n",
      "0  -119.6927928  POLYGON ((-119.72650 45.84776, -119.72620 45.8...  \n",
      "1  -119.5605690  POLYGON ((-119.56749 45.36260, -119.56728 45.3...  \n"
     ]
    },
    {
     "data": {
      "text/plain": [
       "<AxesSubplot:>"
      ]
     },
     "execution_count": 16,
     "metadata": {},
     "output_type": "execute_result"
    },
    {
     "data": {
      "image/png": "[encoded data removed]",
      "text/plain": [
       "<Figure size 432x288 with 1 Axes>"
      ]
     },
     "metadata": {
      "needs_background": "light"
     },
     "output_type": "display_data"
    }
   ],
   "source": [
    "print(\"Shape of the dataframe: {}\".format(oregon_places.shape))\n",
    "print(oregon_places.head(2))\n",
    "\n",
    "oregon_places.plot()"
   ]
  },
  {
   "cell_type": "markdown",
   "id": "3146ac2d",
   "metadata": {},
   "source": [
    "Next, download the PLACES data, which contains many health risk measures for each place and can be joined to the places geographic data. The PLACES api can be used to filter for just the Oregon data. The file is saved to a csv in the local path, and if it is already there, we just read the existing file."
   ]
  },
  {
   "cell_type": "code",
   "execution_count": 5,
   "id": "d732b739",
   "metadata": {},
   "outputs": [
    {
     "name": "stdout",
     "output_type": "stream",
     "text": [
      "Data is ready.\n"
     ]
    },
    {
     "data": {
      "text/html": [
       "<div>\n",
       "<style scoped>\n",
       "    .dataframe tbody tr th:only-of-type {\n",
       "        vertical-align: middle;\n",
       "    }\n",
       "\n",
       "    .dataframe tbody tr th {\n",
       "        vertical-align: top;\n",
       "    }\n",
       "\n",
       "    .dataframe thead th {\n",
       "        text-align: right;\n",
       "    }\n",
       "</style>\n",
       "<table border=\"1\" class=\"dataframe\">\n",
       "  <thead>\n",
       "    <tr style=\"text-align: right;\">\n",
       "      <th></th>\n",
       "      <th>Unnamed: 0</th>\n",
       "      <th>stateabbr</th>\n",
       "      <th>statedesc</th>\n",
       "      <th>placename</th>\n",
       "      <th>placefips</th>\n",
       "      <th>totalpopulation</th>\n",
       "      <th>access2_crudeprev</th>\n",
       "      <th>access2_crude95ci</th>\n",
       "      <th>arthritis_crudeprev</th>\n",
       "      <th>arthritis_crude95ci</th>\n",
       "      <th>...</th>\n",
       "      <th>obesity_adjprev</th>\n",
       "      <th>obesity_adj95ci</th>\n",
       "      <th>phlth_adjprev</th>\n",
       "      <th>phlth_adj95ci</th>\n",
       "      <th>sleep_adjprev</th>\n",
       "      <th>sleep_adj95ci</th>\n",
       "      <th>stroke_adjprev</th>\n",
       "      <th>stroke_adj95ci</th>\n",
       "      <th>teethlost_adjprev</th>\n",
       "      <th>teethlost_adj95ci</th>\n",
       "    </tr>\n",
       "  </thead>\n",
       "  <tbody>\n",
       "    <tr>\n",
       "      <th>0</th>\n",
       "      <td>0</td>\n",
       "      <td>OR</td>\n",
       "      <td>Oregon</td>\n",
       "      <td>Cayuse</td>\n",
       "      <td>4111900</td>\n",
       "      <td>68</td>\n",
       "      <td>11.6</td>\n",
       "      <td>( 9.5, 14.1)</td>\n",
       "      <td>34.0</td>\n",
       "      <td>(32.3, 35.6)</td>\n",
       "      <td>...</td>\n",
       "      <td>NaN</td>\n",
       "      <td>NaN</td>\n",
       "      <td>NaN</td>\n",
       "      <td>NaN</td>\n",
       "      <td>NaN</td>\n",
       "      <td>NaN</td>\n",
       "      <td>NaN</td>\n",
       "      <td>NaN</td>\n",
       "      <td>NaN</td>\n",
       "      <td>NaN</td>\n",
       "    </tr>\n",
       "    <tr>\n",
       "      <th>1</th>\n",
       "      <td>1</td>\n",
       "      <td>OR</td>\n",
       "      <td>Oregon</td>\n",
       "      <td>Peoria</td>\n",
       "      <td>4157300</td>\n",
       "      <td>94</td>\n",
       "      <td>12.5</td>\n",
       "      <td>(10.1, 14.9)</td>\n",
       "      <td>34.5</td>\n",
       "      <td>(32.5, 36.4)</td>\n",
       "      <td>...</td>\n",
       "      <td>NaN</td>\n",
       "      <td>NaN</td>\n",
       "      <td>NaN</td>\n",
       "      <td>NaN</td>\n",
       "      <td>NaN</td>\n",
       "      <td>NaN</td>\n",
       "      <td>NaN</td>\n",
       "      <td>NaN</td>\n",
       "      <td>NaN</td>\n",
       "      <td>NaN</td>\n",
       "    </tr>\n",
       "    <tr>\n",
       "      <th>2</th>\n",
       "      <td>2</td>\n",
       "      <td>OR</td>\n",
       "      <td>Oregon</td>\n",
       "      <td>Rickreall</td>\n",
       "      <td>4161800</td>\n",
       "      <td>77</td>\n",
       "      <td>11.8</td>\n",
       "      <td>( 9.4, 15.0)</td>\n",
       "      <td>31.5</td>\n",
       "      <td>(29.6, 33.2)</td>\n",
       "      <td>...</td>\n",
       "      <td>NaN</td>\n",
       "      <td>NaN</td>\n",
       "      <td>NaN</td>\n",
       "      <td>NaN</td>\n",
       "      <td>NaN</td>\n",
       "      <td>NaN</td>\n",
       "      <td>NaN</td>\n",
       "      <td>NaN</td>\n",
       "      <td>NaN</td>\n",
       "      <td>NaN</td>\n",
       "    </tr>\n",
       "    <tr>\n",
       "      <th>3</th>\n",
       "      <td>3</td>\n",
       "      <td>OR</td>\n",
       "      <td>Oregon</td>\n",
       "      <td>Seventh Mountain</td>\n",
       "      <td>4166385</td>\n",
       "      <td>187</td>\n",
       "      <td>7.9</td>\n",
       "      <td>( 5.8, 10.5)</td>\n",
       "      <td>43.8</td>\n",
       "      <td>(40.6, 46.4)</td>\n",
       "      <td>...</td>\n",
       "      <td>NaN</td>\n",
       "      <td>NaN</td>\n",
       "      <td>NaN</td>\n",
       "      <td>NaN</td>\n",
       "      <td>NaN</td>\n",
       "      <td>NaN</td>\n",
       "      <td>NaN</td>\n",
       "      <td>NaN</td>\n",
       "      <td>NaN</td>\n",
       "      <td>NaN</td>\n",
       "    </tr>\n",
       "    <tr>\n",
       "      <th>4</th>\n",
       "      <td>4</td>\n",
       "      <td>OR</td>\n",
       "      <td>Oregon</td>\n",
       "      <td>Summit</td>\n",
       "      <td>4170870</td>\n",
       "      <td>82</td>\n",
       "      <td>8.9</td>\n",
       "      <td>( 6.6, 11.9)</td>\n",
       "      <td>30.9</td>\n",
       "      <td>(28.4, 33.5)</td>\n",
       "      <td>...</td>\n",
       "      <td>NaN</td>\n",
       "      <td>NaN</td>\n",
       "      <td>NaN</td>\n",
       "      <td>NaN</td>\n",
       "      <td>NaN</td>\n",
       "      <td>NaN</td>\n",
       "      <td>NaN</td>\n",
       "      <td>NaN</td>\n",
       "      <td>NaN</td>\n",
       "      <td>NaN</td>\n",
       "    </tr>\n",
       "  </tbody>\n",
       "</table>\n",
       "<p>5 rows × 120 columns</p>\n",
       "</div>"
      ],
      "text/plain": [
       "   Unnamed: 0 stateabbr statedesc         placename  placefips  \\\n",
       "0           0        OR    Oregon            Cayuse    4111900   \n",
       "1           1        OR    Oregon            Peoria    4157300   \n",
       "2           2        OR    Oregon         Rickreall    4161800   \n",
       "3           3        OR    Oregon  Seventh Mountain    4166385   \n",
       "4           4        OR    Oregon            Summit    4170870   \n",
       "\n",
       "   totalpopulation  access2_crudeprev access2_crude95ci  arthritis_crudeprev  \\\n",
       "0               68               11.6      ( 9.5, 14.1)                 34.0   \n",
       "1               94               12.5      (10.1, 14.9)                 34.5   \n",
       "2               77               11.8      ( 9.4, 15.0)                 31.5   \n",
       "3              187                7.9      ( 5.8, 10.5)                 43.8   \n",
       "4               82                8.9      ( 6.6, 11.9)                 30.9   \n",
       "\n",
       "  arthritis_crude95ci  ...  obesity_adjprev obesity_adj95ci  phlth_adjprev  \\\n",
       "0        (32.3, 35.6)  ...              NaN             NaN            NaN   \n",
       "1        (32.5, 36.4)  ...              NaN             NaN            NaN   \n",
       "2        (29.6, 33.2)  ...              NaN             NaN            NaN   \n",
       "3        (40.6, 46.4)  ...              NaN             NaN            NaN   \n",
       "4        (28.4, 33.5)  ...              NaN             NaN            NaN   \n",
       "\n",
       "  phlth_adj95ci  sleep_adjprev sleep_adj95ci  stroke_adjprev stroke_adj95ci  \\\n",
       "0           NaN            NaN           NaN             NaN            NaN   \n",
       "1           NaN            NaN           NaN             NaN            NaN   \n",
       "2           NaN            NaN           NaN             NaN            NaN   \n",
       "3           NaN            NaN           NaN             NaN            NaN   \n",
       "4           NaN            NaN           NaN             NaN            NaN   \n",
       "\n",
       "   teethlost_adjprev teethlost_adj95ci  \n",
       "0                NaN               NaN  \n",
       "1                NaN               NaN  \n",
       "2                NaN               NaN  \n",
       "3                NaN               NaN  \n",
       "4                NaN               NaN  \n",
       "\n",
       "[5 rows x 120 columns]"
      ]
     },
     "execution_count": 5,
     "metadata": {},
     "output_type": "execute_result"
    }
   ],
   "source": [
    "plc_link = \"https://chronicdata.cdc.gov/resource/vgc8-iyc4.json?stateabbr=OR\"\n",
    "\n",
    "if path.exists(\"SHAPE_places.csv\"):\n",
    "    places_data = pd.read_csv(\"SHAPE_places.csv\")\n",
    "    print(\"Data is ready.\")\n",
    "else:\n",
    "    print(\"Downloading json...\")\n",
    "    response = requests.get(plc_link)\n",
    "    print(f\"Done; response code: {response.status_code}\")\n",
    "    places_data = pd.json_normalize(response.json())\n",
    "    places_data.to_csv(\"SHAPE_places.csv\")\n",
    "\n",
    "places_data.head()"
   ]
  },
  {
   "cell_type": "markdown",
   "id": "24f0ce46",
   "metadata": {},
   "source": [
    "Next up, download data from OR, WA, and CA state parks.\n",
    "\n",
    "- [Washinton (2021)](https://geo.wa.gov/datasets/3385b003af5248e59c1fa68e1411c446_0/explore?location=47.238350%2C-120.706500%2C7.63)\n",
    "- [Oregon (2010)](https://spatialdata.oregonexplorer.info/osdl-geoportal/catalog/search/resource/details.page?uuid=%7B9ED99BB8-3640-4819-86F8-0CBFD377124F%7D)\n",
    "    Oregon's available map data from 2018 and 2014 was not accessible for download online.\n",
    "- [California (2020)](https://www.parks.ca.gov/?page_id=29682)"
   ]
  },
  {
   "cell_type": "code",
   "execution_count": 29,
   "id": "de828503",
   "metadata": {},
   "outputs": [],
   "source": [
    "WA_link = \"https://opendata.arcgis.com/datasets/3385b003af5248e59c1fa68e1411c446_0.geojson\"\n",
    "OR_link = \"http://navigator.state.or.us/sdl/data/shapefile/k24/ORStateParks.zip\"   \n",
    "CA_link = \"https://opendata.arcgis.com/datasets/0fea4fa1db734794bdb3b5410bb3eed9_0.zip?outSR=%7B%22latestWkid%22%3A3857%2C%22wkid%22%3A102100%7D\"\n",
    "\n",
    "#WA = gpd.read_file(WA_link)\n",
    "#OR = gpd.read_file(OR_link)\n",
    "#CA = download_shapefile(CA_link, \"CA_state_parks/shapefiles/\")"
   ]
  },
  {
   "cell_type": "code",
   "execution_count": 30,
   "id": "a0fe3c38",
   "metadata": {},
   "outputs": [
    {
     "name": "stdout",
     "output_type": "stream",
     "text": [
      "Downloading shapefile...\n",
      "Downloaded complete.\n"
     ]
    },
    {
     "data": {
      "text/plain": [
       "<AxesSubplot:>"
      ]
     },
     "execution_count": 30,
     "metadata": {},
     "output_type": "execute_result"
    },
    {
     "data": {
      "image/png": "[encoded data removed]",
      "text/plain": [
       "<Figure size 432x288 with 1 Axes>"
      ]
     },
     "metadata": {
      "needs_background": "light"
     },
     "output_type": "display_data"
    }
   ],
   "source": [
    "loc_path = \"OR_state_parks/shapefiles/\"\n",
    "\n",
    "OR = download_shapefile(OR_link, loc_path)\n",
    "\n",
    "OR.plot()"
   ]
  },
  {
   "cell_type": "code",
   "execution_count": null,
   "id": "aadfac40",
   "metadata": {},
   "outputs": [],
   "source": [
    "#walk_ix = \"https://edg.epa.gov/data/public/OP/SLD/Natl_WI_SHP.zip\" #\n",
    "walk_ix = \"ftp://newftp.epa.gov/EPADataCommons/OP/Natl_WI_SHP.zip\"\n",
    "\n",
    "walk = download_shapefile(walk_ix, \"walkability/\")"
   ]
  },
  {
   "cell_type": "code",
   "execution_count": 16,
   "id": "b8c04dd1",
   "metadata": {},
   "outputs": [
    {
     "data": {
      "text/html": [
       "<div>\n",
       "<style scoped>\n",
       "    .dataframe tbody tr th:only-of-type {\n",
       "        vertical-align: middle;\n",
       "    }\n",
       "\n",
       "    .dataframe tbody tr th {\n",
       "        vertical-align: top;\n",
       "    }\n",
       "\n",
       "    .dataframe thead th {\n",
       "        text-align: right;\n",
       "    }\n",
       "</style>\n",
       "<table border=\"1\" class=\"dataframe\">\n",
       "  <thead>\n",
       "    <tr style=\"text-align: right;\">\n",
       "      <th></th>\n",
       "      <th>currentVersion</th>\n",
       "      <th>id</th>\n",
       "      <th>name</th>\n",
       "      <th>type</th>\n",
       "      <th>description</th>\n",
       "      <th>geometryType</th>\n",
       "      <th>copyrightText</th>\n",
       "      <th>parentLayer</th>\n",
       "      <th>subLayers</th>\n",
       "      <th>minScale</th>\n",
       "      <th>...</th>\n",
       "      <th>advancedQueryCapabilities.supportsStatistics</th>\n",
       "      <th>advancedQueryCapabilities.supportsHavingClause</th>\n",
       "      <th>advancedQueryCapabilities.supportsCountDistinct</th>\n",
       "      <th>advancedQueryCapabilities.supportsOrderBy</th>\n",
       "      <th>advancedQueryCapabilities.supportsDistinct</th>\n",
       "      <th>advancedQueryCapabilities.supportsPagination</th>\n",
       "      <th>advancedQueryCapabilities.supportsTrueCurve</th>\n",
       "      <th>advancedQueryCapabilities.supportsReturningQueryExtent</th>\n",
       "      <th>advancedQueryCapabilities.supportsQueryWithDistance</th>\n",
       "      <th>advancedQueryCapabilities.supportsSqlExpression</th>\n",
       "    </tr>\n",
       "  </thead>\n",
       "  <tbody>\n",
       "    <tr>\n",
       "      <th>0</th>\n",
       "      <td>10.8</td>\n",
       "      <td>0</td>\n",
       "      <td>NationalWalkabilityIndex</td>\n",
       "      <td>Feature Layer</td>\n",
       "      <td>The Walkabiliy Index dataset characterizes eve...</td>\n",
       "      <td>esriGeometryPolygon</td>\n",
       "      <td></td>\n",
       "      <td>None</td>\n",
       "      <td>[]</td>\n",
       "      <td>0</td>\n",
       "      <td>...</td>\n",
       "      <td>True</td>\n",
       "      <td>True</td>\n",
       "      <td>True</td>\n",
       "      <td>True</td>\n",
       "      <td>True</td>\n",
       "      <td>True</td>\n",
       "      <td>True</td>\n",
       "      <td>True</td>\n",
       "      <td>True</td>\n",
       "      <td>True</td>\n",
       "    </tr>\n",
       "  </tbody>\n",
       "</table>\n",
       "<p>1 rows × 65 columns</p>\n",
       "</div>"
      ],
      "text/plain": [
       "   currentVersion  id                      name           type  \\\n",
       "0            10.8   0  NationalWalkabilityIndex  Feature Layer   \n",
       "\n",
       "                                         description         geometryType  \\\n",
       "0  The Walkabiliy Index dataset characterizes eve...  esriGeometryPolygon   \n",
       "\n",
       "  copyrightText parentLayer subLayers  minScale  ...  \\\n",
       "0                      None        []         0  ...   \n",
       "\n",
       "   advancedQueryCapabilities.supportsStatistics  \\\n",
       "0                                          True   \n",
       "\n",
       "   advancedQueryCapabilities.supportsHavingClause  \\\n",
       "0                                            True   \n",
       "\n",
       "   advancedQueryCapabilities.supportsCountDistinct  \\\n",
       "0                                             True   \n",
       "\n",
       "  advancedQueryCapabilities.supportsOrderBy  \\\n",
       "0                                      True   \n",
       "\n",
       "  advancedQueryCapabilities.supportsDistinct  \\\n",
       "0                                       True   \n",
       "\n",
       "  advancedQueryCapabilities.supportsPagination  \\\n",
       "0                                         True   \n",
       "\n",
       "  advancedQueryCapabilities.supportsTrueCurve  \\\n",
       "0                                        True   \n",
       "\n",
       "  advancedQueryCapabilities.supportsReturningQueryExtent  \\\n",
       "0                                               True       \n",
       "\n",
       "  advancedQueryCapabilities.supportsQueryWithDistance  \\\n",
       "0                                               True    \n",
       "\n",
       "  advancedQueryCapabilities.supportsSqlExpression  \n",
       "0                                            True  \n",
       "\n",
       "[1 rows x 65 columns]"
      ]
     },
     "execution_count": 16,
     "metadata": {},
     "output_type": "execute_result"
    }
   ],
   "source": [
    "#walk = pd.json_normalize(r.json())\n",
    "walk"
   ]
  },
  {
   "cell_type": "code",
   "execution_count": 3,
   "id": "c2314dc0",
   "metadata": {},
   "outputs": [],
   "source": [
    "walk_ix = \"ftp://newftp.epa.gov/EPADataCommons/OP/Natl_WI_SHP.zip\"\n",
    "\n",
    "with urllib.request.urlopen(walk_ix) as r:\n",
    "    data = r.read()"
   ]
  },
  {
   "cell_type": "code",
   "execution_count": 4,
   "id": "407eecb6",
   "metadata": {},
   "outputs": [],
   "source": [
    "data"
   ]
  },
  {
   "cell_type": "code",
   "execution_count": null,
   "id": "602cad5f",
   "metadata": {},
   "outputs": [],
   "source": []
  }
 ],
 "metadata": {
  "kernelspec": {
   "display_name": "Python 3",
   "language": "python",
   "name": "python3"
  },
  "language_info": {
   "codemirror_mode": {
    "name": "ipython",
    "version": 3
   },
   "file_extension": ".py",
   "mimetype": "text/x-python",
   "name": "python",
   "nbconvert_exporter": "python",
   "pygments_lexer": "ipython3",
   "version": "3.8.5"
  }
 },
 "nbformat": 4,
 "nbformat_minor": 5
}
