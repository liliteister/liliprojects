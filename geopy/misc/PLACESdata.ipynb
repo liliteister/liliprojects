{
 "cells": [
  {
   "cell_type": "markdown",
   "id": "c40db025",
   "metadata": {},
   "source": [
    "## Geographic Data\n",
    "\n",
    "Links and code to download US PLACES data into geopandas dataframes."
   ]
  },
  {
   "cell_type": "code",
   "execution_count": 1,
   "id": "1249777b",
   "metadata": {},
   "outputs": [],
   "source": [
    "def download_shapefile(url, loc_path):\n",
    "    \n",
    "    if path.exists(loc_path):\n",
    "        p = gpd.read_file(loc_path)\n",
    "        print(\"File is ready.\")\n",
    "    else:\n",
    "        print(\"Downloading shapefile...\")\n",
    "        r = requests.get(url)\n",
    "        z = zipfile.ZipFile(io.BytesIO(r.content))\n",
    "        z.extractall(path=loc_path) \n",
    "        print(f\"Downloaded complete.\")\n",
    "        p = gpd.read_file(loc_path)\n",
    "    \n",
    "    return p"
   ]
  },
  {
   "cell_type": "code",
   "execution_count": null,
   "id": "453d4435",
   "metadata": {},
   "outputs": [],
   "source": [
    "url = 'https://www2.census.gov/geo/tiger/TIGER2019/PLACE/tl_2019_41_place.zip' # 'places' in Oregon\n",
    "local_path = 'OR_places_shapefiles/'\n",
    "\n",
    "oregon_places = download_shapefile(url, local_path)"
   ]
  },
  {
   "cell_type": "code",
   "execution_count": null,
   "id": "244435ba",
   "metadata": {},
   "outputs": [],
   "source": [
    "print(\"Shape of the dataframe: {}\".format(oregon_places.shape))\n",
    "print(oregon_places.head(2))\n",
    "\n",
    "oregon_places.plot()"
   ]
  },
  {
   "cell_type": "markdown",
   "id": "b8f03423",
   "metadata": {},
   "source": [
    "Next, download the PLACES data, which contains many health risk measures for each place and can be joined to the places geographic data. The PLACES api can be used to filter for just the Oregon data. The file is saved to a csv in the local path, and if it is already there, we just read the existing file."
   ]
  },
  {
   "cell_type": "code",
   "execution_count": null,
   "id": "becf83b2",
   "metadata": {},
   "outputs": [],
   "source": [
    "plc_link = \"https://chronicdata.cdc.gov/resource/vgc8-iyc4.json?stateabbr=OR\"\n",
    "\n",
    "if path.exists(\"SHAPE_places.csv\"):\n",
    "    places_data = pd.read_csv(\"SHAPE_places.csv\")\n",
    "    print(\"Data is ready.\")\n",
    "else:\n",
    "    print(\"Downloading json...\")\n",
    "    response = requests.get(plc_link)\n",
    "    print(f\"Done; response code: {response.status_code}\")\n",
    "    places_data = pd.json_normalize(response.json())\n",
    "    places_data.to_csv(\"SHAPE_places.csv\")\n",
    "\n",
    "places_data.head()"
   ]
  }
 ],
 "metadata": {
  "kernelspec": {
   "display_name": "Python 3",
   "language": "python",
   "name": "python3"
  },
  "language_info": {
   "codemirror_mode": {
    "name": "ipython",
    "version": 3
   },
   "file_extension": ".py",
   "mimetype": "text/x-python",
   "name": "python",
   "nbconvert_exporter": "python",
   "pygments_lexer": "ipython3",
   "version": "3.8.5"
  }
 },
 "nbformat": 4,
 "nbformat_minor": 5
}
