{
 "cells": [
  {
   "cell_type": "code",
   "execution_count": null,
   "id": "c006c56e",
   "metadata": {},
   "outputs": [],
   "source": [
    "API_KEY = \"apikey\"  # DO NOT SHARE FILE WITH API KEY\n",
    "param = dict(apikey=API_KEY)\n",
    "\n",
    "# filtered for state OR\n",
    "fed_OR = \"https://ridb.recreation.gov/api/v1/recareas?limit=200&offset=0&full=true&state=OR&lastupdated=10-01-2018\"\n",
    "\n",
    "response = requests.get(fed_OR, params = param)\n",
    "print(f\"Done; response code: {response.status_code}\")\n",
    "rec_data = pd.json_normalize(response.json())"
   ]
  },
  {
   "cell_type": "code",
   "execution_count": null,
   "id": "914fff0f",
   "metadata": {},
   "outputs": [],
   "source": [
    "rec_data = pd.json_normalize(response.json()['RECDATA'])\n",
    "rec_data.to_csv(\"rec_OR.csv\")"
   ]
  }
 ],
 "metadata": {
  "kernelspec": {
   "display_name": "Python 3",
   "language": "python",
   "name": "python3"
  },
  "language_info": {
   "codemirror_mode": {
    "name": "ipython",
    "version": 3
   },
   "file_extension": ".py",
   "mimetype": "text/x-python",
   "name": "python",
   "nbconvert_exporter": "python",
   "pygments_lexer": "ipython3",
   "version": "3.8.5"
  }
 },
 "nbformat": 4,
 "nbformat_minor": 5
}
